{
  "nbformat": 4,
  "nbformat_minor": 0,
  "metadata": {
    "colab": {
      "provenance": [],
      "authorship_tag": "ABX9TyPB2v8/BU/ow3YP6WKSNLm4",
      "include_colab_link": true
    },
    "kernelspec": {
      "name": "python3",
      "display_name": "Python 3"
    },
    "language_info": {
      "name": "python"
    }
  },
  "cells": [
    {
      "cell_type": "markdown",
      "metadata": {
        "id": "view-in-github",
        "colab_type": "text"
      },
      "source": [
        "<a href=\"https://colab.research.google.com/github/luisDaviSantana/ANALISE_ALGORITMO_3semestre/blob/main/16_09_25.ipynb\" target=\"_parent\"><img src=\"https://colab.research.google.com/assets/colab-badge.svg\" alt=\"Open In Colab\"/></a>"
      ]
    },
    {
      "cell_type": "markdown",
      "source": [
        "# HERANÇAS E CLASSES PODEM PASSAR TODOS OS SEUS ATRIBUTOS E MÉTODOS PARA AS CLASSES FILHAS E ESTE PARADIGMA DAMOS O NOME DE HERANÇA ENTRE CLASSES."
      ],
      "metadata": {
        "id": "3r8x6SZ0b8HO"
      }
    },
    {
      "cell_type": "code",
      "source": [
        "'''\n",
        "DESCRIÇÃO: SUPERCLASSE VEÍCULO QUE POSSUI ATRIBUTOS QUE SERÃO PASSASDOS AS CLASSES FILHAS POR MEIO DA HERANÇA\n",
        "\n",
        "AUTOR: LUÍS DAVI\n",
        "DATA: 16/09/2025\n",
        "\n",
        "'''\n",
        "\n",
        "class Veiculo: #Classe Pai\n",
        "  #Método construtor do objeto em memória\n",
        "  def __init__(self):\n",
        "    self.marca = input(\"Marca do veículo:\")\n",
        "    self.modelo = input(\"Modelo do veículo:\")\n",
        "    self.ano = int(input(\"Ano do veículo:\"))\n",
        "\n",
        "  #Método para exibir dados de um veículo\n",
        "  def exibirDadosVeiculo(self):\n",
        "    print(f'Marca: {self.marca}')\n",
        "    print(f'Modelo: {self.modelo}')\n",
        "    print(f'Ano: {self.ano}')\n",
        "\n",
        "  #Método para acelerar veículo\n",
        "  def acelerarVeiculo(self):\n",
        "    print(f'O veículo {self.modelo} está sendo acelerado.')"
      ],
      "metadata": {
        "id": "UcM3vXiTcP_R"
      },
      "execution_count": 73,
      "outputs": []
    },
    {
      "cell_type": "code",
      "source": [
        "'''\n",
        "CLASSE FILHA QUE HERDA TODOS OS ATRIBUTOS E MÉTODOS DA CLASSE PAI VEÍCULO\n",
        "AUTHOR: LUÍS DAVI\n",
        "DATA: 16/09/2025\n",
        "'''\n",
        "class Carro(Veiculo): #Aqui se faz a herança\n",
        "  def __init__(self):\n",
        "    super().__init__()\n",
        "    self.cor = input(\"Cor do carro:\")\n",
        "    self.valor = int(input(\"Valor do carro:\"))\n",
        "\n",
        "  def exibirDadosCarro(self):\n",
        "    super().exibirDadosVeiculo()\n",
        "    print(f'Cor: {self.cor}')\n",
        "    print(f'Valor: {self.valor}')\n",
        "\n",
        "\n",
        "# class Caminhao(Veiculo): #Aqui se faz a herança\n",
        "#   def __init__(self):\n",
        "#     super().__init__()\n",
        "#     self.carroceria = input(\"Carroceria do caminhão:\")\n",
        "#     self.carga = int(input(\"Carga do caminhão:\"))\n",
        "#     self.nEixos = int(input(\"Número de eixos do caminhão:\"))\n",
        "#     self.cor = input(\"Cor do caminhão\")\n",
        "#     self.valor = int(input(\"Valor do caminhão\"))\n",
        "\n",
        "  def exibirDadosCaminhao(self):\n",
        "    super().exibirDadosVeiculo()\n",
        "    print(f'Carroceria: {self.carroceria}')\n",
        "    print(f'Carga: {self.carga}')\n",
        "    print(f'nEixos: {self.nEixos}')\n",
        "    print(f'Cor: {self.cor}')\n",
        "    print(f'Valor: {self.valor}')"
      ],
      "metadata": {
        "id": "2gLAlZ4XkcEv"
      },
      "execution_count": 76,
      "outputs": []
    },
    {
      "cell_type": "code",
      "source": [
        "class Proprietario:\n",
        "  def __init__(self):\n",
        "    self.nome = input(\"Nome Proprietário: \")\n",
        "    self.cpf = int(input(\"CPF Proprietário: \"))\n",
        "\n",
        "  def exibirDadosProprietario(self):\n",
        "    print(f'Nome: {self.nome}')\n",
        "    print(f'CPF: {self.cpf}')\n"
      ],
      "metadata": {
        "id": "RRzzFf7Z5Lwt"
      },
      "execution_count": 77,
      "outputs": []
    },
    {
      "cell_type": "code",
      "source": [
        "class Venda:\n",
        "  def __init__(self, prop, carro):\n",
        "    print(f'O {prop.nome} comprou o carro {carro.modelo}')"
      ],
      "metadata": {
        "id": "CI1lq7TV6-Is"
      },
      "execution_count": 78,
      "outputs": []
    },
    {
      "cell_type": "code",
      "source": [
        "'''\n",
        "DESCRIÇÃO: CLASSE PARA GERAR INSTÂNCIAS DE VEÍCULO\n",
        "AUTOR: LUÍS DAVI\n",
        "DATA:16/09/2025\n",
        "'''\n",
        "\n",
        "# #Criando Instãncias de Veículo\n",
        "# ve = Veiculo(\"Toyota\", \"Corolla\",2026)\n",
        "# ve.exibirDadosVeiculo()\n",
        "# ve.acelerarVeiculo()\n",
        "\n",
        "\n",
        "#Criando as instancias carro\n",
        "x = Carro()\n",
        "x.exibirDadosCarro()\n",
        "x.acelerarVeiculo()\n",
        "prop = Proprietario()\n",
        "prop.exibirDadosProprietario()\n",
        "\n",
        "venda = Venda(prop,x)\n",
        "\n",
        "\n",
        "# y = Caminhao(\"Kisaru\", \"Mitsubishi\", \"Cegonha\", 1000, 6, \"Preto\", 750000)\n",
        "# y.exibirDadosCaminhao()\n",
        "# y.acelerarVeiculo()\n",
        "\n"
      ],
      "metadata": {
        "colab": {
          "base_uri": "https://localhost:8080/"
        },
        "id": "vjxiAoiVedDl",
        "outputId": "c87b6688-0faa-4206-e1ed-c8bac93e0997"
      },
      "execution_count": 80,
      "outputs": [
        {
          "output_type": "stream",
          "name": "stdout",
          "text": [
            "Marca do veículo:Chevrolet\n",
            "Modelo do veículo:Ônix\n",
            "Ano do veículo:2025\n",
            "Cor do carro:Cin\\a\n",
            "Valor do carro:200000\n",
            "Marca: Chevrolet\n",
            "Modelo: Ônix\n",
            "Ano: 2025\n",
            "Cor: Cin\\a\n",
            "Valor: 200000\n",
            "O veículo Ônix está sendo acelerado.\n",
            "Nome Proprietário: Macaco\n",
            "CPF Proprietário: 00000000000\n",
            "Nome: Macaco\n",
            "CPF: 0\n",
            "O Macaco comprou o carro Ônix\n"
          ]
        }
      ]
    }
  ]
}